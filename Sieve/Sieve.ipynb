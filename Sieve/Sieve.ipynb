{
 "cells": [
  {
   "cell_type": "code",
   "execution_count": 1,
   "id": "2db8909b-c220-45f2-8108-4362d92c9d6c",
   "metadata": {},
   "outputs": [
    {
     "data": {
      "text/html": [
       "<pre style=\"white-space:pre;overflow-x:auto;line-height:normal;font-family:Menlo,'DejaVu Sans Mono',consolas,'Courier New',monospace\">Manim Community <span style=\"color: #008000; text-decoration-color: #008000\">v0.13.1</span>\n",
       "\n",
       "</pre>\n"
      ],
      "text/plain": [
       "Manim Community \u001b[32mv0.\u001b[0m\u001b[32m13.1\u001b[0m\n",
       "\n"
      ]
     },
     "metadata": {},
     "output_type": "display_data"
    }
   ],
   "source": [
    "from manim import *\n",
    "import numpy as np\n",
    "_30k = [\"#202f66\", \"#ff7048\", \"#7f68d0\", \"#f3d36e\", \"#d869ab\", \"#48ADA9\", \"#1b262c\"]"
   ]
  },
  {
   "cell_type": "code",
   "execution_count": 2,
   "id": "b7090a73-9972-4a04-8dca-ef098730440c",
   "metadata": {},
   "outputs": [],
   "source": [
    "# manim video resolution config\n",
    "config[\"frame_size\"] = (2560, 1080)\n",
    "config[\"frame_rate\"] = 60\n",
    "config[\"background_color\"] = BLACK"
   ]
  },
  {
   "cell_type": "code",
   "execution_count": 3,
   "id": "bc704e9f-8dc0-4ee2-889e-e23361d9a282",
   "metadata": {},
   "outputs": [],
   "source": [
    "def pad_number_text(number_arr, pad):\n",
    "    number_arr_pad = []\n",
    "    for i in number_arr:\n",
    "        if not np.isnan(i):\n",
    "            number_arr_pad.append(f\"{i.astype(np.int):^{pad}}\")\n",
    "        else:\n",
    "            number_arr_pad.append(' '*pad)\n",
    "    return number_arr_pad"
   ]
  },
  {
   "cell_type": "code",
   "execution_count": 4,
   "id": "89a00241-0a49-4dd0-9e82-9879e4942326",
   "metadata": {},
   "outputs": [
    {
     "name": "stderr",
     "output_type": "stream",
     "text": [
      "                                                                                                                                                                        \r"
     ]
    },
    {
     "data": {
      "text/html": [
       "<video src=\"media/jupyter/SieveOfEratosthenes@2021-12-13@22-21-55.mp4\" controls autoplay loop style=\"max-width: 60%;\"  >\n",
       "      Your browser does not support the <code>video</code> element.\n",
       "    </video>"
      ],
      "text/plain": [
       "<IPython.core.display.Video object>"
      ]
     },
     "metadata": {},
     "output_type": "display_data"
    }
   ],
   "source": [
    "%%manim -v WARNING SieveOfEratosthenes\n",
    "config[\"frame_width\"] = 21 * 1.25\n",
    "config[\"frame_height\"] = 9 * 1.25\n",
    "# config[\"save_last_frame\"] = True\n",
    "\n",
    "class SieveOfEratosthenes(Scene):\n",
    "    \n",
    "    def construct(self):\n",
    "        \n",
    "        self.initialize_base_table()\n",
    "        \n",
    "        self.base_table.scale(0.6).to_edge(DOWN, buff=1)\n",
    "        self.play(self.base_table.create(run_time=1, lag_ratio=0.1))\n",
    "        \n",
    "        \n",
    "        current_text = Text(f\" \", font=\"Gill Sans Nova\").to_edge(UP, buff=1)\n",
    "        max_num_to_search = int(np.sqrt(self.n))\n",
    "        \n",
    "        for i in range(1, max_num_to_search):\n",
    "            current_num = self.number_array[i]\n",
    "            old_text = current_text\n",
    "            current_text = Text(f\"for i=2..{max_num_to_search}, i = {current_num}\", font=\"Inconsolata\", font_size=40).to_edge(UP, buff=1)\n",
    "            current_frame = SurroundingRectangle(self.base_table.get_entries()[i], buff=0.2, color=_30k[1])\n",
    "            \n",
    "            # find numbers that are not divisible by current number \n",
    "            # i.e. the current number is not a factor of them\n",
    "            # current number, if it is prime, it will still be active(color)\n",
    "            self.flag = (self.number_array % current_num != 0) | (self.number_array == current_num)\n",
    "            self.prime_flag *= self.flag\n",
    "            \n",
    "            # if a number is not masked as a prime number\n",
    "            if self.prime_flag[i] == 1:\n",
    "                algor_text = Text(f\"Remove all numbers k > {current_num}, that k % {current_num} = 0\", font=\"Inconsolata\", font_size=24*1.6).next_to(current_text, DOWN)                \n",
    "                self.play(ReplacementTransform(old_text, current_text, run_time=0.4), Write(current_frame, run_time=0.5), Write(algor_text, run_time=0.5))\n",
    "                self.mask_not_prime(current_num)\n",
    "                self.update_table_color()\n",
    "            else:\n",
    "                algor_text = Text(f\"{current_num} is not a prime number.\", font=\"Inconsolata\", font_size=24).next_to(current_text, DOWN)\n",
    "                self.play(ReplacementTransform(old_text, current_text, run_time=0.5), Write(current_frame, run_time=0.5), Write(algor_text, run_time=0.5))\n",
    "            \n",
    "            self.play(FadeOut(current_frame, run_time=1), FadeOut(algor_text, run_time=1))\n",
    "        \n",
    "        self.play(FadeOut(current_text), FadeOut(algor_text))\n",
    "        self.get_all_primes()\n",
    "        self.wait()\n",
    "\n",
    "        \n",
    "    def initialize_base_table(self):\n",
    "        self.n = 200\n",
    "        self.n_col = 20\n",
    "        self.number_array = np.arange(1, self.n+1)\n",
    "        self.prime_flag = np.ones_like(self.number_array)\n",
    "        self.prime_flag[0] = 0\n",
    "        \n",
    "        # pad array\n",
    "        self.n_row = int(np.ceil(self.n/self.n_col))\n",
    "        padded_length = self.n_row*self.n_col\n",
    "        padded_number_arr = self.number_array.copy()\n",
    "        for i in range(padded_length-self.n):\n",
    "            np.append(padded_number_arr, np.nan)\n",
    "    \n",
    "        table_text = np.array(pad_number_text(padded_number_arr, 3))\n",
    "        table_text = np.reshape(table_text, (self.n_row, self.n_col))\n",
    "        base_table = Table(table_text, line_config={\"stroke_width\": 0}, h_buff=0.5)\n",
    "        base_table.get_entries().set_color(_30k[3])\n",
    "        base_table.get_entries()[0].set_color(\"#343434\")\n",
    "        self.base_table = base_table\n",
    "    \n",
    "    def update_table_color(self):\n",
    "        old_table = self.base_table\n",
    "        for i in range(self.n):\n",
    "            if self.prime_flag[i] == 0:\n",
    "                self.base_table.get_entries()[i].set_color(\"#343434\")\n",
    "        self.play(ReplacementTransform(old_table, self.base_table, run_time=1))\n",
    "    \n",
    "    def mask_not_prime(self, current_num):\n",
    "        cross_group = []\n",
    "        for i in range(current_num, self.n):\n",
    "            if self.flag[i] == 0:\n",
    "                # create cross\n",
    "                current_entry = self.base_table.get_entries()[i]\n",
    "                cross = Cross(current_entry, stroke_color=_30k[1])\n",
    "                cross_group.append(cross)\n",
    "        \n",
    "        self.play(FadeIn(*cross_group, run_time=1, lag_ratio=0.2))\n",
    "        self.play(FadeOut(*cross_group, run_time=0.25, lag_ratio=0))\n",
    "    \n",
    "    def get_all_primes(self):\n",
    "        prime_numbers = self.number_array * self.prime_flag\n",
    "        prime_numbers = np.array(prime_numbers[prime_numbers != 0])\n",
    "        n_prime = len(prime_numbers)\n",
    "        \n",
    "        # insert blank value, in order to be able to use reshape\n",
    "        padded_length = int(np.ceil(n_prime/self.n_col))*self.n_col\n",
    "        for i in range(padded_length-n_prime):\n",
    "            prime_numbers = np.append(prime_numbers, np.nan)\n",
    "        \n",
    "        prime_padded = pad_number_text(prime_numbers, 3)\n",
    "        prime_padded = np.reshape(prime_padded, (int(np.ceil(n_prime/self.n_col)), self.n_col))\n",
    "        prime_table = Table(prime_padded, line_config={\"stroke_width\": 0}, h_buff=0.5).scale(0.8)\n",
    "        prime_table.get_entries().set_color(_30k[4])\n",
    "        self.play(ReplacementTransform(self.base_table, prime_table, run_time=2))\n",
    "        self.wait(2)\n",
    "        self.play(FadeOut(prime_table))\n"
   ]
  },
  {
   "cell_type": "code",
   "execution_count": null,
   "id": "a571ab08-137b-408c-b785-ad890911ea5b",
   "metadata": {},
   "outputs": [],
   "source": []
  }
 ],
 "metadata": {
  "kernelspec": {
   "display_name": "Python 3 (ipykernel)",
   "language": "python",
   "name": "python3"
  },
  "language_info": {
   "codemirror_mode": {
    "name": "ipython",
    "version": 3
   },
   "file_extension": ".py",
   "mimetype": "text/x-python",
   "name": "python",
   "nbconvert_exporter": "python",
   "pygments_lexer": "ipython3",
   "version": "3.9.7"
  }
 },
 "nbformat": 4,
 "nbformat_minor": 5
}
