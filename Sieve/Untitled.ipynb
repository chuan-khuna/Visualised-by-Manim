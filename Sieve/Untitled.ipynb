{
 "cells": [
  {
   "cell_type": "code",
   "execution_count": 1,
   "id": "2db8909b-c220-45f2-8108-4362d92c9d6c",
   "metadata": {},
   "outputs": [
    {
     "data": {
      "text/html": [
       "<pre style=\"white-space:pre;overflow-x:auto;line-height:normal;font-family:Menlo,'DejaVu Sans Mono',consolas,'Courier New',monospace\">Manim Community <span style=\"color: #008000; text-decoration-color: #008000\">v0.13.1</span>\n",
       "\n",
       "</pre>\n"
      ],
      "text/plain": [
       "Manim Community \u001b[32mv0.\u001b[0m\u001b[32m13.1\u001b[0m\n",
       "\n"
      ]
     },
     "metadata": {},
     "output_type": "display_data"
    }
   ],
   "source": [
    "from manim import *\n",
    "import numpy as np\n",
    "_30k = [\"#202f66\", \"#ff7048\", \"#7f68d0\", \"#f3d36e\", \"#d869ab\", \"#48ADA9\", \"#1b262c\"]"
   ]
  },
  {
   "cell_type": "code",
   "execution_count": 14,
   "id": "b7090a73-9972-4a04-8dca-ef098730440c",
   "metadata": {},
   "outputs": [],
   "source": [
    "# manim video resolution config\n",
    "config[\"frame_size\"] = (2560, 1080)\n",
    "config[\"frame_rate\"] = 10\n",
    "config[\"background_color\"] = BLACK"
   ]
  },
  {
   "cell_type": "code",
   "execution_count": 45,
   "id": "bc704e9f-8dc0-4ee2-889e-e23361d9a282",
   "metadata": {},
   "outputs": [],
   "source": [
    "n = 200\n",
    "number_arr = np.arange(1, n+1)\n",
    "color_arr = [\"#ff7048\"] * n\n",
    "# 1 is not prime\n",
    "color_arr[0] = GREY\n",
    "\n",
    "def pad_number_text(number_arr, pad):\n",
    "    number_arr_pad = []\n",
    "    for i in number_arr:\n",
    "        number_arr_pad.append(f\"{i:^{pad}}\")\n",
    "    return number_arr_pad"
   ]
  },
  {
   "cell_type": "code",
   "execution_count": null,
   "id": "89a00241-0a49-4dd0-9e82-9879e4942326",
   "metadata": {},
   "outputs": [],
   "source": [
    "%%manim -v WARNING SieveOfEratosthenes\n",
    "config[\"frame_width\"] = 32 * 1.25\n",
    "config[\"frame_height\"] = 9 * 1.25\n",
    "# config[\"save_last_frame\"] = True\n",
    "\n",
    "class SieveOfEratosthenes(Scene):\n",
    "    def construct(self):\n",
    "        table_text = np.array(pad_number_text(number_arr, 3))\n",
    "        table_text = np.reshape(table_text, (10, 20))\n",
    "        base_table = Table(table_text, line_config={\"stroke_width\": 0}, h_buff=0.5)\n",
    "        base_elements = base_table.get_entries()\n",
    "        base_elements.set_color(color_arr)\n",
    "        self.play(base_table.create(run_time=2, lag_ratio=0.0))\n",
    "        self.wait()\n",
    "        pass"
   ]
  },
  {
   "cell_type": "code",
   "execution_count": null,
   "id": "0f0eba13-51f8-46c6-a030-b999ea9bee1c",
   "metadata": {},
   "outputs": [],
   "source": []
  }
 ],
 "metadata": {
  "kernelspec": {
   "display_name": "Python 3 (ipykernel)",
   "language": "python",
   "name": "python3"
  },
  "language_info": {
   "codemirror_mode": {
    "name": "ipython",
    "version": 3
   },
   "file_extension": ".py",
   "mimetype": "text/x-python",
   "name": "python",
   "nbconvert_exporter": "python",
   "pygments_lexer": "ipython3",
   "version": "3.9.7"
  }
 },
 "nbformat": 4,
 "nbformat_minor": 5
}
