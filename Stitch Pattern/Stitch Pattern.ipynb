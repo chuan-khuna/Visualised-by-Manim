{
 "cells": [
  {
   "cell_type": "code",
   "execution_count": 1,
   "id": "c3749b59-be93-43f2-b487-27b790f51d3c",
   "metadata": {
    "tags": []
   },
   "outputs": [
    {
     "data": {
      "text/html": [
       "<pre style=\"white-space:pre;overflow-x:auto;line-height:normal;font-family:Menlo,'DejaVu Sans Mono',consolas,'Courier New',monospace\">Manim Community <span style=\"color: #008000; text-decoration-color: #008000\">v0.13.1</span>\n",
       "\n",
       "</pre>\n"
      ],
      "text/plain": [
       "Manim Community \u001b[32mv0.\u001b[0m\u001b[32m13.1\u001b[0m\n",
       "\n"
      ]
     },
     "metadata": {},
     "output_type": "display_data"
    }
   ],
   "source": [
    "from manim import *\n",
    "import numpy as np"
   ]
  },
  {
   "cell_type": "code",
   "execution_count": 3,
   "id": "a1954be7-ba3c-4f13-8739-a5fd87b02532",
   "metadata": {},
   "outputs": [],
   "source": [
    "def horizontal_rule(x):\n",
    "    if x % 2 == 0:\n",
    "        return 1\n",
    "    else:\n",
    "        return 0\n",
    "\n",
    "def vertical_rule(y):\n",
    "    if y.lower() in 'aeiou':\n",
    "        return 1\n",
    "    else:\n",
    "        return 0\n",
    "    \n",
    "def generate_horizontal_lines(start, min_x, max_x, y):\n",
    "    lines = []\n",
    "    dots = np.arange(min_x+start, max_x, 2)\n",
    "    for dot in dots:\n",
    "        if dot + 1 < max_x:\n",
    "            line = Line(start=[dot, y, 0], end=[dot+1, y, 0], stroke_width=4, color=\"#202f66\")\n",
    "            lines.append(line)\n",
    "    return lines\n",
    "\n",
    "def generate_vertical_lines(start, min_y, max_y, x):\n",
    "    lines = []\n",
    "    dots = np.arange(min_y+start, max_y, 2)\n",
    "    for dot in dots:\n",
    "        if dot + 1 <= max_y:\n",
    "            line = Line(start=[x, dot, 0], end=[x, dot+1, 0], stroke_width=4, color=\"#202f66\")\n",
    "            lines.append(line)\n",
    "    return lines\n",
    "\n",
    "def pad_text(original, length):\n",
    "    original += \" \"\n",
    "    text_length = len(original)\n",
    "    fact = int(np.ceil(length/text_length))\n",
    "    return (original*fact)[:length]"
   ]
  },
  {
   "cell_type": "code",
   "execution_count": 4,
   "id": "9d617a6b-de09-443c-a2d2-9095a242ef04",
   "metadata": {},
   "outputs": [],
   "source": [
    "min_x = -21\n",
    "max_x = 21\n",
    "\n",
    "min_y = -9\n",
    "max_y = 9\n",
    "\n",
    "x_range = np.arange(min_x, max_x+1, 1)\n",
    "y_range = np.arange(min_y, max_y+1, 1)"
   ]
  },
  {
   "cell_type": "code",
   "execution_count": 5,
   "id": "65087375-7bf4-4603-8045-aa9868965ec3",
   "metadata": {},
   "outputs": [
    {
     "name": "stderr",
     "output_type": "stream",
     "text": [
      "                                                                                                                                                                                \r"
     ]
    },
    {
     "data": {
      "text/html": [
       "<video src=\"media/jupyter/StitchPattern@2021-12-12@19-42-33.mp4\" controls autoplay loop style=\"max-width: 60%;\"  >\n",
       "      Your browser does not support the <code>video</code> element.\n",
       "    </video>"
      ],
      "text/plain": [
       "<IPython.core.display.Video object>"
      ]
     },
     "metadata": {},
     "output_type": "display_data"
    }
   ],
   "source": [
    "%%manim -v WARNING StitchPattern\n",
    "\n",
    "config[\"frame_size\"] = (2560, 1080)\n",
    "config[\"frame_rate\"] = 90\n",
    "config[\"frame_width\"] = len(x_range) * 1.25\n",
    "config[\"frame_height\"] = len(y_range) * 1.25\n",
    "config[\"background_color\"] = WHITE\n",
    "# config[\"save_last_frame\"] = True\n",
    "\n",
    "class StitchPattern(Scene):\n",
    "    def construct(self):\n",
    "        # draw horizontal lines\n",
    "        pi_str = \"3.141592653589793238462643383279502884197169399375105820974944592307816406286\"\n",
    "        pi_str = pi_str.replace(\".\", '')\n",
    "        pi_str = pad_text(pi_str, len(y_range)-1)\n",
    "        for (i, num) in enumerate(pi_str):\n",
    "            start = horizontal_rule(int(num))\n",
    "            lines = generate_horizontal_lines(start, min_x, max_x, y_range[::-1][i])\n",
    "            text = Text(num, font='Gill Sans Nova', color=\"#202f66\").next_to([20, y_range[::-1][i], 0], RIGHT*2)\n",
    "            horizontal_lines_group = VGroup(*lines, text)\n",
    "            self.play(Write(horizontal_lines_group, run_time=0.2, lag_ratio=0.1))\n",
    "            \n",
    "        # draw vertical lines\n",
    "        text = \"Phattharanat Khunakornophat\"\n",
    "        text =  pad_text(text, len(x_range)-1)\n",
    "        for (i, char) in enumerate(text):\n",
    "            start = vertical_rule(char)\n",
    "            lines = generate_vertical_lines(start, min_y, max_y, x_range[i])\n",
    "            # text = Text(char.upper(), font='Gill Sans', color=\"#202f66\").next_to([x_range[i], y_range[0], 0], DOWN*2)\n",
    "            vertical_lines_group = VGroup(*lines)\n",
    "            self.play(Write(vertical_lines_group, run_time=0.2, lag_ratio=0.1))\n",
    "        self.wait()"
   ]
  },
  {
   "cell_type": "code",
   "execution_count": null,
   "id": "ee93dff0-6d4f-4ff7-ac08-ee1375cd161f",
   "metadata": {},
   "outputs": [],
   "source": []
  },
  {
   "cell_type": "code",
   "execution_count": null,
   "id": "c662005d-f1b1-4383-9e4e-398df0050361",
   "metadata": {},
   "outputs": [],
   "source": []
  }
 ],
 "metadata": {
  "kernelspec": {
   "display_name": "Python 3 (ipykernel)",
   "language": "python",
   "name": "python3"
  },
  "language_info": {
   "codemirror_mode": {
    "name": "ipython",
    "version": 3
   },
   "file_extension": ".py",
   "mimetype": "text/x-python",
   "name": "python",
   "nbconvert_exporter": "python",
   "pygments_lexer": "ipython3",
   "version": "3.9.7"
  }
 },
 "nbformat": 4,
 "nbformat_minor": 5
}
