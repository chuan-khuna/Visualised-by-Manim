{
 "cells": [
  {
   "cell_type": "code",
   "execution_count": 1,
   "id": "029cf97e-afc3-4b55-a5a5-823edc0ec4bc",
   "metadata": {},
   "outputs": [
    {
     "data": {
      "text/html": [
       "<pre style=\"white-space:pre;overflow-x:auto;line-height:normal;font-family:Menlo,'DejaVu Sans Mono',consolas,'Courier New',monospace\">Manim Community <span style=\"color: #008000; text-decoration-color: #008000\">v0.13.1</span>\n",
       "\n",
       "</pre>\n"
      ],
      "text/plain": [
       "Manim Community \u001b[32mv0.\u001b[0m\u001b[32m13.1\u001b[0m\n",
       "\n"
      ]
     },
     "metadata": {},
     "output_type": "display_data"
    }
   ],
   "source": [
    "from manim import *\n",
    "import numpy as np\n",
    "import pandas as pd\n",
    "_30k = [\"#202f66\", \"#ff7048\", \"#7f68d0\", \"#f3d36e\", \"#d869ab\", \"#48ADA9\", \"#1b262c\"]"
   ]
  },
  {
   "cell_type": "code",
   "execution_count": 2,
   "id": "953d87cd-bb7f-4f0f-8436-8f632a001b51",
   "metadata": {},
   "outputs": [],
   "source": [
    "# manim video resolution config\n",
    "config[\"frame_size\"] = (2560, 1080)\n",
    "config[\"frame_rate\"] = 60\n",
    "config[\"background_color\"] = BLACK"
   ]
  },
  {
   "cell_type": "code",
   "execution_count": 3,
   "id": "a18d6cad-1704-4a7b-b46a-de48fc9cfc52",
   "metadata": {},
   "outputs": [
    {
     "name": "stderr",
     "output_type": "stream",
     "text": [
      "                                                                                                                                                         \r"
     ]
    },
    {
     "data": {
      "text/html": [
       "<video src=\"media/jupyter/MonteCarlo@2021-12-14@14-50-19.mp4\" controls autoplay loop style=\"max-width: 60%;\"  >\n",
       "      Your browser does not support the <code>video</code> element.\n",
       "    </video>"
      ],
      "text/plain": [
       "<IPython.core.display.Video object>"
      ]
     },
     "metadata": {},
     "output_type": "display_data"
    }
   ],
   "source": [
    "%%manim -v WARNING MonteCarlo\n",
    "\n",
    "config[\"frame_width\"] = 21 * 1.25\n",
    "config[\"frame_height\"] = 9 * 1.25\n",
    "config[\"save_last_frame\"] = True\n",
    "config[\"save_last_frame\"] = False\n",
    "\n",
    "\n",
    "class MonteCarlo(Scene):\n",
    "    \n",
    "    def construct(self):\n",
    "        ax, one_unit_length = self.create_axes()\n",
    "        \n",
    "        circle_color = _30k[3]\n",
    "        square_color = _30k[4]\n",
    "        \n",
    "        # scale to same size of an axes\n",
    "        circle = Circle(radius=1, color=circle_color).scale(one_unit_length)\n",
    "        square = SurroundingRectangle(circle, buff=0, color=square_color)\n",
    "        \n",
    "        # placeholder brace\n",
    "        b = BraceBetweenPoints([0, 0, 0], [one_unit_length, 0, 0], direction=[0, -1, 0])\n",
    "        brace = BraceLabel(b, 'r = 1', brace_direction=[0, 1, 0])\n",
    "        \n",
    "        circle_square_group = VGroup(circle, square)\n",
    "        figure_group = VGroup(circle, square, brace, ax)\n",
    "        \n",
    "        self.play(Create(ax))\n",
    "        self.play(Write(circle), Write(square))\n",
    "        self.add(ax)\n",
    "        self.play(Write(brace))\n",
    "        self.wait(0.5)\n",
    "        self.play(figure_group.animate.shift(LEFT * 5).scale(1.5))\n",
    "        self.wait(1)\n",
    "        \n",
    "        circle_area_formula = circle_text, circle_area = VGroup(\n",
    "            Text(\"Area of Circle = \", font_size=36, color=circle_color),\n",
    "            MathTex(\"\\pi r^2\", color=circle_color)\n",
    "        )\n",
    "        circle_area.next_to(circle_text, RIGHT) \n",
    "        square_area_formula = square_text, square_area = VGroup(\n",
    "            Text(\"Area of Square = \", font_size=36, color=square_color),\n",
    "            MathTex(\"2r \\cdot 2r = 4r^2\", color=square_color)\n",
    "        )\n",
    "        square_area.next_to(square_text, RIGHT)\n",
    "        square_area_formula.next_to(circle_area_formula, DOWN)\n",
    "        \n",
    "        formulae_group = VGroup(circle_area_formula, square_area_formula)\n",
    "        formulae_group.move_to(RIGHT * 5)\n",
    "        \n",
    "        self.play(Write(formulae_group))\n",
    "        self.play(formulae_group.animate.shift(UP * 2))\n",
    "        self.wait()\n",
    "        \n",
    "        prob_group = prob_text, prob_formula = VGroup(\n",
    "            Text(\"Prob(dots fall in the circle) = \", font_size=36),\n",
    "            MathTex(r\"\\frac{\\pi r^2}{4r^2}\")\n",
    "        )\n",
    "        prob_formula.next_to(prob_text)\n",
    "        prob_group.move_to(RIGHT * 5)\n",
    "        self.play(Write(prob_group))\n",
    "        self.wait()\n",
    "        \n",
    "        old_prob_formula = prob_formula\n",
    "        prob_formula = MathTex(r\"\\frac{\\pi}{4}\").next_to(prob_text)\n",
    "        self.play(ReplacementTransform(old_prob_formula, prob_formula))\n",
    "        \n",
    "        old_prob_group = VGroup(prob_text, prob_formula)\n",
    "        prob_group = prob_text, prob_formula = VGroup(\n",
    "            MathTex(r\"\\frac{\\text{\\#dots\\ in\\ circle}}{\\text{\\#total\\ dots\\ in\\ square}} = \"),\n",
    "            MathTex(r\"\\frac{\\pi}{4}\")\n",
    "        )\n",
    "        prob_formula.next_to(prob_text)\n",
    "        prob_group.move_to(RIGHT * 5)\n",
    "        self.play(ReplacementTransform(old_prob_group, prob_group))\n",
    "        self.wait(1.5)\n",
    "        \n",
    "    \n",
    "    def create_axes(self, show_number=True):\n",
    "        \n",
    "        step = 0.5\n",
    "        axes_range = [-1.5, 1.5, step]\n",
    "        axes_length = len(np.arange(*axes_range))\n",
    "        one_unit_length = 1/step\n",
    "        \n",
    "        ax = Axes(\n",
    "            x_range=axes_range,\n",
    "            y_range=axes_range,\n",
    "            axis_config={\"include_numbers\": show_number, \"font_size\": 24},\n",
    "            x_length=axes_length,\n",
    "            y_length=axes_length\n",
    "        )\n",
    "        \n",
    "        return ax, one_unit_length\n"
   ]
  },
  {
   "cell_type": "code",
   "execution_count": null,
   "id": "d9aeef40-a296-4c36-b71b-b5e156ea2fe7",
   "metadata": {},
   "outputs": [],
   "source": []
  }
 ],
 "metadata": {
  "kernelspec": {
   "display_name": "Python 3 (ipykernel)",
   "language": "python",
   "name": "python3"
  },
  "language_info": {
   "codemirror_mode": {
    "name": "ipython",
    "version": 3
   },
   "file_extension": ".py",
   "mimetype": "text/x-python",
   "name": "python",
   "nbconvert_exporter": "python",
   "pygments_lexer": "ipython3",
   "version": "3.9.7"
  }
 },
 "nbformat": 4,
 "nbformat_minor": 5
}
